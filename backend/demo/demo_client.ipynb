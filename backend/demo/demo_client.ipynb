{
 "cells": [
  {
   "cell_type": "markdown",
   "id": "c868901d-52bb-4de3-8ee0-bd3e67691370",
   "metadata": {},
   "source": [
    "# Demo sonoUno server\n",
    "\n",
    "In this notebook, we will use the sonoUno servers APIs to\n",
    "- login the test user in order to retrieve an access token\n",
    "- create a transform\n",
    "- execute a job\n",
    "- play the output\n",
    "\n",
    "\n",
    "### Initialisation"
   ]
  },
  {
   "cell_type": "code",
   "execution_count": null,
   "id": "6af4d118-e1bb-40c6-999f-e7784aec5655",
   "metadata": {},
   "outputs": [],
   "source": [
    "import requests\n",
    "from pathlib import Path\n",
    "from pprint import pprint\n",
    "from sonounolib import Track\n",
    "\n",
    "SERVER_URL = DATA_URL = 'http://api.sonouno.org.ar'\n",
    "EMAIL = \"test_email@test.com\"\n",
    "PASSWORD = 'password'"
   ]
  },
  {
   "cell_type": "markdown",
   "id": "01146a96-71fa-4b50-a146-e7bdd7649249",
   "metadata": {},
   "source": [
    "### Access token\n",
    "We login a test user, which already exists in the sonoUno User database. Then the access token is stored in the request session that will be used from now on."
   ]
  },
  {
   "cell_type": "code",
   "execution_count": null,
   "id": "094c22a2-5275-4c0c-9adc-d8a5620da8ba",
   "metadata": {},
   "outputs": [],
   "source": [
    "user = {\n",
    "    'email': EMAIL,\n",
    "    'password': PASSWORD,\n",
    "}\n",
    "response = requests.post(f'{SERVER_URL}/iam/login', json=user)\n",
    "response.raise_for_status()\n",
    "access_token = response.json()['access_token']\n",
    "session = requests.Session()\n",
    "session.headers['Authorization'] = f'Bearer {access_token}'"
   ]
  },
  {
   "cell_type": "markdown",
   "id": "bad5e691-c15f-4ca6-a4b0-a1db75ee16d8",
   "metadata": {},
   "source": [
    "### The source code of the transform"
   ]
  },
  {
   "cell_type": "code",
   "execution_count": null,
   "id": "97e56331-d3f7-4da5-8ba9-0b79fc875160",
   "metadata": {},
   "outputs": [],
   "source": [
    "SOURCE = Path('shortwav.py').read_text()\n",
    "print(SOURCE)"
   ]
  },
  {
   "cell_type": "markdown",
   "id": "e54a36ee-a055-4549-b72b-6f819a4926c1",
   "metadata": {},
   "source": [
    "### Creation of the transform"
   ]
  },
  {
   "cell_type": "code",
   "execution_count": null,
   "id": "7ca4e4fd-4fa6-4643-97f2-35f1b8411e10",
   "metadata": {},
   "outputs": [],
   "source": [
    "transform_in = {\n",
    "    'name': \"Test transformation\",\n",
    "    'public': True,\n",
    "    'language': \"python\",\n",
    "    'source': SOURCE,\n",
    "    'entry_point': {\"name\": \"pipeline\"}\n",
    "}\n",
    "response = session.post(f'{SERVER_URL}/transforms', json=transform_in)\n",
    "response.raise_for_status()\n",
    "transform = response.json()\n",
    "pprint(transform)"
   ]
  },
  {
   "cell_type": "markdown",
   "id": "37f97117-5cc4-4d1b-8368-0fc3a27aa568",
   "metadata": {},
   "source": [
    "### Creation and execution of the job"
   ]
  },
  {
   "cell_type": "code",
   "execution_count": null,
   "id": "39865adf-d1f8-4dcd-97de-62623b3364e6",
   "metadata": {},
   "outputs": [],
   "source": [
    "job_in = {\n",
    "    'transform_id': transform['_id'],\n",
    "    'inputs': [\n",
    "        {\n",
    "            'id': 'pipeline.repeat',\n",
    "            'value': 2,\n",
    "        },\n",
    "    ],\n",
    "}\n",
    "response = session.post(f'{SERVER_URL}/jobs', json=job_in)\n",
    "response.raise_for_status()\n",
    "job = response.json()\n",
    "pprint(job['outputs'])\n"
   ]
  },
  {
   "cell_type": "markdown",
   "id": "d195f4c1-40ae-4cbe-bbb7-b9a9b62e2af1",
   "metadata": {},
   "source": [
    "### Access and play the sonification\n"
   ]
  },
  {
   "cell_type": "code",
   "execution_count": null,
   "id": "95857cc9-be08-42fa-b7cd-4d23b0335031",
   "metadata": {},
   "outputs": [],
   "source": [
    "uri = job['outputs'][0]['value']\n",
    "print(f'The audio file is available at: {uri}')\n",
    "track = Track.load(uri)\n",
    "track.play()"
   ]
  }
 ],
 "metadata": {
  "kernelspec": {
   "display_name": "Python 3 (ipykernel)",
   "language": "python",
   "name": "python3"
  },
  "language_info": {
   "codemirror_mode": {
    "name": "ipython",
    "version": 3
   },
   "file_extension": ".py",
   "mimetype": "text/x-python",
   "name": "python",
   "nbconvert_exporter": "python",
   "pygments_lexer": "ipython3",
   "version": "3.10.4"
  }
 },
 "nbformat": 4,
 "nbformat_minor": 5
}
